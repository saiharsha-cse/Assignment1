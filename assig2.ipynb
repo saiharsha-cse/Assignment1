{
  "nbformat": 4,
  "nbformat_minor": 0,
  "metadata": {
    "colab": {
      "name": "assig2",
      "provenance": [],
      "collapsed_sections": [],
      "authorship_tag": "ABX9TyMYxlZM5X3kQsrZ3z1UcgzM",
      "include_colab_link": true
    },
    "kernelspec": {
      "name": "python3",
      "display_name": "Python 3"
    }
  },
  "cells": [
    {
      "cell_type": "markdown",
      "metadata": {
        "id": "view-in-github",
        "colab_type": "text"
      },
      "source": [
        "<a href=\"https://colab.research.google.com/github/saiharsha-cse/Assignments/blob/main/assig2.ipynb\" target=\"_parent\"><img src=\"https://colab.research.google.com/assets/colab-badge.svg\" alt=\"Open In Colab\"/></a>"
      ]
    },
    {
      "cell_type": "code",
      "metadata": {
        "colab": {
          "base_uri": "https://localhost:8080/"
        },
        "id": "VIYM7C7i-Ixy",
        "outputId": "f10f42f7-fef2-47c7-fc38-30ad07aee0d2"
      },
      "source": [
        "a=int(input(\"Hello pilot! Enter the altitude of your plane:\"))\r\n",
        "if a<=1000:\r\n",
        "  print(\"Safe to land\")\r\n",
        "elif a>1000 and a<5000:\r\n",
        "  print(\"Bring down to 1000\")\r\n",
        "else:\r\n",
        "  print(\"Turn around and try later\")  "
      ],
      "execution_count": null,
      "outputs": [
        {
          "output_type": "stream",
          "text": [
            "Hello pilot! Enter the altitude of your plane:1000\n",
            "Safe to land\n"
          ],
          "name": "stdout"
        }
      ]
    }
  ]
}