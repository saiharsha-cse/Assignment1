{
  "nbformat": 4,
  "nbformat_minor": 0,
  "metadata": {
    "colab": {
      "name": "assig1",
      "provenance": [],
      "collapsed_sections": [],
      "authorship_tag": "ABX9TyM/6iG7xBR/hB4Az6ma90dr",
      "include_colab_link": true
    },
    "kernelspec": {
      "name": "python3",
      "display_name": "Python 3"
    }
  },
  "cells": [
    {
      "cell_type": "markdown",
      "metadata": {
        "id": "view-in-github",
        "colab_type": "text"
      },
      "source": [
        "<a href=\"https://colab.research.google.com/github/saiharsha-cse/Assignment1/blob/main/assig1.ipynb\" target=\"_parent\"><img src=\"https://colab.research.google.com/assets/colab-badge.svg\" alt=\"Open In Colab\"/></a>"
      ]
    },
    {
      "cell_type": "markdown",
      "metadata": {
        "id": "QWSCKi5E1IW3"
      },
      "source": [
        "                                   ***1.LIST BUILT-IN FUNCTIONS***"
      ]
    },
    {
      "cell_type": "code",
      "metadata": {
        "colab": {
          "base_uri": "https://localhost:8080/"
        },
        "id": "4yN1t8X0uz_9",
        "outputId": "863a5e70-c282-4534-ba0a-cd200b4a2d81"
      },
      "source": [
        "lst=[1,2,2,2,3,3,4,2,3,2]\r\n",
        "lst.index(2)"
      ],
      "execution_count": null,
      "outputs": [
        {
          "output_type": "execute_result",
          "data": {
            "text/plain": [
              "1"
            ]
          },
          "metadata": {
            "tags": []
          },
          "execution_count": 1
        }
      ]
    },
    {
      "cell_type": "code",
      "metadata": {
        "colab": {
          "base_uri": "https://localhost:8080/"
        },
        "id": "d10NMxkpvZDr",
        "outputId": "598246d6-a5d7-4dbf-dbc9-4fd3d140f30e"
      },
      "source": [
        "lst=[20,21,1,2,90,80,34]\r\n",
        "lst.sort()\r\n",
        "print(lst)"
      ],
      "execution_count": null,
      "outputs": [
        {
          "output_type": "stream",
          "text": [
            "[1, 2, 20, 21, 34, 80, 90]\n"
          ],
          "name": "stdout"
        }
      ]
    },
    {
      "cell_type": "code",
      "metadata": {
        "colab": {
          "base_uri": "https://localhost:8080/"
        },
        "id": "JGcCzNvsxGZ5",
        "outputId": "e4a6bb9d-5f1e-450e-b4b5-81332f44ccbc"
      },
      "source": [
        "lst=['h','e','l','l','o']\r\n",
        "lst.reverse()\r\n",
        "print(lst)"
      ],
      "execution_count": null,
      "outputs": [
        {
          "output_type": "stream",
          "text": [
            "['o', 'l', 'l', 'e', 'h']\n"
          ],
          "name": "stdout"
        }
      ]
    },
    {
      "cell_type": "code",
      "metadata": {
        "colab": {
          "base_uri": "https://localhost:8080/"
        },
        "id": "LnrFXKqIxWXu",
        "outputId": "0fadf610-64ec-45d2-a222-d8464db18ac8"
      },
      "source": [
        "lst=['a','s','i','t','i','s']\r\n",
        "lst.count('s')"
      ],
      "execution_count": null,
      "outputs": [
        {
          "output_type": "execute_result",
          "data": {
            "text/plain": [
              "2"
            ]
          },
          "metadata": {
            "tags": []
          },
          "execution_count": 22
        }
      ]
    },
    {
      "cell_type": "code",
      "metadata": {
        "colab": {
          "base_uri": "https://localhost:8080/"
        },
        "id": "ZWrHZOmAzZeA",
        "outputId": "71c2f079-c564-4f70-ecf1-a77b3b616cd3"
      },
      "source": [
        "lst1=[34,67,30,19,10]\r\n",
        "lst2=['a','b','c']\r\n",
        "lst1.extend(lst2)\r\n",
        "print(lst1)"
      ],
      "execution_count": null,
      "outputs": [
        {
          "output_type": "stream",
          "text": [
            "[34, 67, 30, 19, 10, 'a', 'b', 'c']\n"
          ],
          "name": "stdout"
        }
      ]
    },
    {
      "cell_type": "markdown",
      "metadata": {
        "id": "GqI5Cgmc1lUj"
      },
      "source": [
        "                                       **2.DICTIONARY BUILT-IN FUCTIONS**"
      ]
    },
    {
      "cell_type": "code",
      "metadata": {
        "colab": {
          "base_uri": "https://localhost:8080/"
        },
        "id": "evDeSZET1xJl",
        "outputId": "b344e080-f242-452a-c8cd-382b22b06f02"
      },
      "source": [
        "d={\"name\":\"harsha\",\"rollno\":573,\"branch\":\"cse\"}\r\n",
        "g=d.copy()\r\n",
        "print(g)"
      ],
      "execution_count": null,
      "outputs": [
        {
          "output_type": "stream",
          "text": [
            "{'name': 'harsha', 'rollno': 573, 'branch': 'cse'}\n"
          ],
          "name": "stdout"
        }
      ]
    },
    {
      "cell_type": "code",
      "metadata": {
        "colab": {
          "base_uri": "https://localhost:8080/"
        },
        "id": "5R9LN3Yj5Fq9",
        "outputId": "1aa03908-e38a-4708-ab55-5b919ce488ac"
      },
      "source": [
        "x={\"a1\",\"a2\",\"a3\"}\r\n",
        "y=1\r\n",
        "z=dict.fromkeys(x,y)\r\n",
        "print(z)"
      ],
      "execution_count": null,
      "outputs": [
        {
          "output_type": "stream",
          "text": [
            "{'a2': 1, 'a3': 1, 'a1': 1}\n"
          ],
          "name": "stdout"
        }
      ]
    },
    {
      "cell_type": "code",
      "metadata": {
        "colab": {
          "base_uri": "https://localhost:8080/"
        },
        "id": "LMp5QA8p54hJ",
        "outputId": "f3be7962-dbb3-4cf8-d939-4c3133d069cc"
      },
      "source": [
        "d={\"name\":\"harsha\",\"rollno\":573}\r\n",
        "x=d.pop(\"rollno\")\r\n",
        "print(x)"
      ],
      "execution_count": null,
      "outputs": [
        {
          "output_type": "stream",
          "text": [
            "573\n"
          ],
          "name": "stdout"
        }
      ]
    },
    {
      "cell_type": "code",
      "metadata": {
        "colab": {
          "base_uri": "https://localhost:8080/"
        },
        "id": "RnOnmO4q7hB-",
        "outputId": "aa66f106-dd7e-40d4-9005-a20fb87ec787"
      },
      "source": [
        "d={\"brand\":\"ford\",\"model\":\"mustang\"}\r\n",
        "x=d.get(\"brand\")\r\n",
        "print(x)"
      ],
      "execution_count": null,
      "outputs": [
        {
          "output_type": "stream",
          "text": [
            "ford\n"
          ],
          "name": "stdout"
        }
      ]
    },
    {
      "cell_type": "code",
      "metadata": {
        "colab": {
          "base_uri": "https://localhost:8080/"
        },
        "id": "3plXDCYQ79fi",
        "outputId": "7174e17b-cbcd-412e-f040-315c64672ef7"
      },
      "source": [
        "d={\"red\":1,\"blue\":2,\"black\":3}\r\n",
        "print(d.items())"
      ],
      "execution_count": null,
      "outputs": [
        {
          "output_type": "stream",
          "text": [
            "dict_items([('red', 1), ('blue', 2), ('black', 3)])\n"
          ],
          "name": "stdout"
        }
      ]
    }
  ]
}